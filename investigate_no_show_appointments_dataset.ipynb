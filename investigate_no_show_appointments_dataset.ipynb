{
 "cells": [
  {
   "cell_type": "markdown",
   "metadata": {
    "colab_type": "text",
    "id": "_FffPybYBu-j"
   },
   "source": [
    "\n",
    "# Project-1: Investigate \"No-show appointments\" Dataset\n",
    "---\n",
    "<div style=\"text-align: justify\"> Submitted as part of **AIRBUS Data Analyst Nanodegree** CORE CURRICULUM. </div>\n",
    "<div style=\"text-align: right\"> by: **_Pankaj NATH_** on February 29, 2020 (Iss.1.0).</div>\n",
    "\n",
    "---\n",
    "## Table of Revisons\n",
    "Issue | Date | Reason for Revision\n",
    "--- | --- | ---\n",
    "1.0  | 29/02/2020 | First version.\n",
    "\n",
    "## Table of Contents\n",
    "<ul>\n",
    "<li><a href=\"#intro\">Introduction</a></li>\n",
    "<li><a href=\"#wrangling\">Data Wrangling</a></li>\n",
    "<li><a href=\"#eda\">Exploratory Data Analysis</a></li>\n",
    "<li><a href=\"#conclusions\">Conclusions</a></li>\n",
    "</ul>"
   ]
  },
  {
   "cell_type": "markdown",
   "metadata": {
    "colab_type": "text",
    "id": "V81Era83Bu-l"
   },
   "source": [
    "<a id='intro'></a>\n",
    "## Introduction\n"
   ]
  },
  {
   "cell_type": "markdown",
   "metadata": {
    "colab_type": "text",
    "id": "CuiosvJVBu-m"
   },
   "source": [
    "The seleccted dataset for this investigation project work is named as \"**No-show appointments**\". Original source of this dataset is Kaggle and it can be downloaded by clicking [here](https://d17h27t6h515a5.cloudfront.net/topher/2017/October/59dd2e9a_noshowappointments-kagglev2-may-2016/noshowappointments-kagglev2-may-2016.csv).\n",
    "&nbsp;\n",
    "This dataset contains more than **110k** datapoints related to medical appointments in Brazil for patients. It is focussed on whether a paitent shows-up for his/her medical appointment as scheduled. It also captures many other parameters as listed below:\n",
    "&nbsp;\n",
    "> 1. **PatientId**: Unique number to identify each paitent.\n",
    "> 2. **AppointmentID**: Unique number to identify each appointment booked.\n",
    "> 3. **Gender**: Gender of the paitent for whom appoint ment is made.\n",
    "> 4. **ScheduledDay**: The day _(timestamp)_ when the appointment was made.\n",
    "> 5. **AppointmentDay**: The day for which the appointment was taken.\n",
    "> 6. **Age**: The age of the paitent for whom appointment was taken.\n",
    "> 7. **Neighbourhood**: The location where the hospital is located.\n",
    "> 8. **Scholarship**: This  indicates whether or not the patient is enrolled in Brasilian welfare program Bolsa Família (https://en.wikipedia.org/wiki/Bolsa_Fam%C3%ADlia).\n",
    "> 9. **Hipertension**: If the paitent has medical condition of Hypertension.\n",
    "> 10. **Diabetes**: If the paitent has medical condition of Diatebets.\n",
    "> 11. **Alcoholism**: If the paitent has medical condition of Alcohol abuse.\n",
    "> 12. **Handcap**: If the paitent has medical condition impacting his/her mobility.\n",
    "> 13. **SMS_received**: If the paitent recieved SMS reminder for thier scheduled appointment.\n",
    "> 14. **No-show**: Finally if the paitent show-up or not as per their scheduled appointments.\n",
    "\n",
    "### Questions for investigation\n",
    "1. Is their any correlation observed between different parameters?\n",
    "2. What is the overall success of Show against No-Show?  \n",
    "3. Is Age, Handicap, SMS reminders, Scholarship or Advance Appointment booking a factor contributing to Show / No-Show?"
   ]
  },
  {
   "cell_type": "code",
   "execution_count": 1,
   "metadata": {
    "colab": {},
    "colab_type": "code",
    "id": "Rfpoy8zTBu-n"
   },
   "outputs": [],
   "source": [
    "# Importing pandas library which provides high-performance, easy-to-use data structures and analysis tools\n",
    "import pandas as pd\n",
    "\n",
    "# Importing Matplotlib library for ploting 2D plots/graphs\n",
    "import matplotlib.pyplot as plt\n",
    "%matplotlib inline\n",
    "\n",
    "# Importing seaborn library for plotting different charts/plots\n",
    "import seaborn as sns"
   ]
  },
  {
   "cell_type": "markdown",
   "metadata": {
    "colab_type": "text",
    "id": "XwlG7D_KBu-r"
   },
   "source": [
    "<a id='wrangling'></a>\n",
    "## Data Wrangling & Data Cleaning\n",
    "\n",
    "We will import the dataset and then investigate one-by-one all parameters present into the dataset and will clean it simultaneously as much as possible with justifications.\n",
    "\n",
    "### General Properties"
   ]
  },
  {
   "cell_type": "code",
   "execution_count": 2,
   "metadata": {
    "colab": {},
    "colab_type": "code",
    "id": "nCBbXR_WBu-r",
    "outputId": "d612d9a9-dd6f-46ca-dd4b-34ec3e25f903"
   },
   "outputs": [
    {
     "data": {
      "text/html": [
       "<div>\n",
       "<style scoped>\n",
       "    .dataframe tbody tr th:only-of-type {\n",
       "        vertical-align: middle;\n",
       "    }\n",
       "\n",
       "    .dataframe tbody tr th {\n",
       "        vertical-align: top;\n",
       "    }\n",
       "\n",
       "    .dataframe thead th {\n",
       "        text-align: right;\n",
       "    }\n",
       "</style>\n",
       "<table border=\"1\" class=\"dataframe\">\n",
       "  <thead>\n",
       "    <tr style=\"text-align: right;\">\n",
       "      <th></th>\n",
       "      <th>PatientId</th>\n",
       "      <th>AppointmentID</th>\n",
       "      <th>Gender</th>\n",
       "      <th>ScheduledDay</th>\n",
       "      <th>AppointmentDay</th>\n",
       "      <th>Age</th>\n",
       "      <th>Neighbourhood</th>\n",
       "      <th>Scholarship</th>\n",
       "      <th>Hipertension</th>\n",
       "      <th>Diabetes</th>\n",
       "      <th>Alcoholism</th>\n",
       "      <th>Handcap</th>\n",
       "      <th>SMS_received</th>\n",
       "      <th>No-show</th>\n",
       "    </tr>\n",
       "  </thead>\n",
       "  <tbody>\n",
       "    <tr>\n",
       "      <th>0</th>\n",
       "      <td>2.987250e+13</td>\n",
       "      <td>5642903</td>\n",
       "      <td>F</td>\n",
       "      <td>2016-04-29T18:38:08Z</td>\n",
       "      <td>2016-04-29T00:00:00Z</td>\n",
       "      <td>62</td>\n",
       "      <td>JARDIM DA PENHA</td>\n",
       "      <td>0</td>\n",
       "      <td>1</td>\n",
       "      <td>0</td>\n",
       "      <td>0</td>\n",
       "      <td>0</td>\n",
       "      <td>0</td>\n",
       "      <td>No</td>\n",
       "    </tr>\n",
       "    <tr>\n",
       "      <th>1</th>\n",
       "      <td>5.589978e+14</td>\n",
       "      <td>5642503</td>\n",
       "      <td>M</td>\n",
       "      <td>2016-04-29T16:08:27Z</td>\n",
       "      <td>2016-04-29T00:00:00Z</td>\n",
       "      <td>56</td>\n",
       "      <td>JARDIM DA PENHA</td>\n",
       "      <td>0</td>\n",
       "      <td>0</td>\n",
       "      <td>0</td>\n",
       "      <td>0</td>\n",
       "      <td>0</td>\n",
       "      <td>0</td>\n",
       "      <td>No</td>\n",
       "    </tr>\n",
       "    <tr>\n",
       "      <th>2</th>\n",
       "      <td>4.262962e+12</td>\n",
       "      <td>5642549</td>\n",
       "      <td>F</td>\n",
       "      <td>2016-04-29T16:19:04Z</td>\n",
       "      <td>2016-04-29T00:00:00Z</td>\n",
       "      <td>62</td>\n",
       "      <td>MATA DA PRAIA</td>\n",
       "      <td>0</td>\n",
       "      <td>0</td>\n",
       "      <td>0</td>\n",
       "      <td>0</td>\n",
       "      <td>0</td>\n",
       "      <td>0</td>\n",
       "      <td>No</td>\n",
       "    </tr>\n",
       "    <tr>\n",
       "      <th>3</th>\n",
       "      <td>8.679512e+11</td>\n",
       "      <td>5642828</td>\n",
       "      <td>F</td>\n",
       "      <td>2016-04-29T17:29:31Z</td>\n",
       "      <td>2016-04-29T00:00:00Z</td>\n",
       "      <td>8</td>\n",
       "      <td>PONTAL DE CAMBURI</td>\n",
       "      <td>0</td>\n",
       "      <td>0</td>\n",
       "      <td>0</td>\n",
       "      <td>0</td>\n",
       "      <td>0</td>\n",
       "      <td>0</td>\n",
       "      <td>No</td>\n",
       "    </tr>\n",
       "    <tr>\n",
       "      <th>4</th>\n",
       "      <td>8.841186e+12</td>\n",
       "      <td>5642494</td>\n",
       "      <td>F</td>\n",
       "      <td>2016-04-29T16:07:23Z</td>\n",
       "      <td>2016-04-29T00:00:00Z</td>\n",
       "      <td>56</td>\n",
       "      <td>JARDIM DA PENHA</td>\n",
       "      <td>0</td>\n",
       "      <td>1</td>\n",
       "      <td>1</td>\n",
       "      <td>0</td>\n",
       "      <td>0</td>\n",
       "      <td>0</td>\n",
       "      <td>No</td>\n",
       "    </tr>\n",
       "  </tbody>\n",
       "</table>\n",
       "</div>"
      ],
      "text/plain": [
       "      PatientId  AppointmentID Gender          ScheduledDay  \\\n",
       "0  2.987250e+13        5642903      F  2016-04-29T18:38:08Z   \n",
       "1  5.589978e+14        5642503      M  2016-04-29T16:08:27Z   \n",
       "2  4.262962e+12        5642549      F  2016-04-29T16:19:04Z   \n",
       "3  8.679512e+11        5642828      F  2016-04-29T17:29:31Z   \n",
       "4  8.841186e+12        5642494      F  2016-04-29T16:07:23Z   \n",
       "\n",
       "         AppointmentDay  Age      Neighbourhood  Scholarship  Hipertension  \\\n",
       "0  2016-04-29T00:00:00Z   62    JARDIM DA PENHA            0             1   \n",
       "1  2016-04-29T00:00:00Z   56    JARDIM DA PENHA            0             0   \n",
       "2  2016-04-29T00:00:00Z   62      MATA DA PRAIA            0             0   \n",
       "3  2016-04-29T00:00:00Z    8  PONTAL DE CAMBURI            0             0   \n",
       "4  2016-04-29T00:00:00Z   56    JARDIM DA PENHA            0             1   \n",
       "\n",
       "   Diabetes  Alcoholism  Handcap  SMS_received No-show  \n",
       "0         0           0        0             0      No  \n",
       "1         0           0        0             0      No  \n",
       "2         0           0        0             0      No  \n",
       "3         0           0        0             0      No  \n",
       "4         1           0        0             0      No  "
      ]
     },
     "execution_count": 2,
     "metadata": {},
     "output_type": "execute_result"
    }
   ],
   "source": [
    "# Read dataset csv file\n",
    "df_dataset = pd.read_csv('noshowappointments-kagglev2-may-2016.csv')\n",
    "\n",
    "# Lets print and see first few datapoints from the top of this dataset\n",
    "df_dataset.head()"
   ]
  },
  {
   "cell_type": "code",
   "execution_count": 3,
   "metadata": {
    "colab": {},
    "colab_type": "code",
    "id": "KYTj5-OJBu-u",
    "outputId": "da33cd56-0ceb-4173-f90d-a7e5ec893f7c"
   },
   "outputs": [
    {
     "data": {
      "text/html": [
       "<div>\n",
       "<style scoped>\n",
       "    .dataframe tbody tr th:only-of-type {\n",
       "        vertical-align: middle;\n",
       "    }\n",
       "\n",
       "    .dataframe tbody tr th {\n",
       "        vertical-align: top;\n",
       "    }\n",
       "\n",
       "    .dataframe thead th {\n",
       "        text-align: right;\n",
       "    }\n",
       "</style>\n",
       "<table border=\"1\" class=\"dataframe\">\n",
       "  <thead>\n",
       "    <tr style=\"text-align: right;\">\n",
       "      <th></th>\n",
       "      <th>PatientId</th>\n",
       "      <th>AppointmentID</th>\n",
       "      <th>Age</th>\n",
       "      <th>Scholarship</th>\n",
       "      <th>Hipertension</th>\n",
       "      <th>Diabetes</th>\n",
       "      <th>Alcoholism</th>\n",
       "      <th>Handcap</th>\n",
       "      <th>SMS_received</th>\n",
       "    </tr>\n",
       "  </thead>\n",
       "  <tbody>\n",
       "    <tr>\n",
       "      <th>count</th>\n",
       "      <td>1.105270e+05</td>\n",
       "      <td>1.105270e+05</td>\n",
       "      <td>110527.000000</td>\n",
       "      <td>110527.000000</td>\n",
       "      <td>110527.000000</td>\n",
       "      <td>110527.000000</td>\n",
       "      <td>110527.000000</td>\n",
       "      <td>110527.000000</td>\n",
       "      <td>110527.000000</td>\n",
       "    </tr>\n",
       "    <tr>\n",
       "      <th>mean</th>\n",
       "      <td>1.474963e+14</td>\n",
       "      <td>5.675305e+06</td>\n",
       "      <td>37.088874</td>\n",
       "      <td>0.098266</td>\n",
       "      <td>0.197246</td>\n",
       "      <td>0.071865</td>\n",
       "      <td>0.030400</td>\n",
       "      <td>0.022248</td>\n",
       "      <td>0.321026</td>\n",
       "    </tr>\n",
       "    <tr>\n",
       "      <th>std</th>\n",
       "      <td>2.560949e+14</td>\n",
       "      <td>7.129575e+04</td>\n",
       "      <td>23.110205</td>\n",
       "      <td>0.297675</td>\n",
       "      <td>0.397921</td>\n",
       "      <td>0.258265</td>\n",
       "      <td>0.171686</td>\n",
       "      <td>0.161543</td>\n",
       "      <td>0.466873</td>\n",
       "    </tr>\n",
       "    <tr>\n",
       "      <th>min</th>\n",
       "      <td>3.921784e+04</td>\n",
       "      <td>5.030230e+06</td>\n",
       "      <td>-1.000000</td>\n",
       "      <td>0.000000</td>\n",
       "      <td>0.000000</td>\n",
       "      <td>0.000000</td>\n",
       "      <td>0.000000</td>\n",
       "      <td>0.000000</td>\n",
       "      <td>0.000000</td>\n",
       "    </tr>\n",
       "    <tr>\n",
       "      <th>25%</th>\n",
       "      <td>4.172614e+12</td>\n",
       "      <td>5.640286e+06</td>\n",
       "      <td>18.000000</td>\n",
       "      <td>0.000000</td>\n",
       "      <td>0.000000</td>\n",
       "      <td>0.000000</td>\n",
       "      <td>0.000000</td>\n",
       "      <td>0.000000</td>\n",
       "      <td>0.000000</td>\n",
       "    </tr>\n",
       "    <tr>\n",
       "      <th>50%</th>\n",
       "      <td>3.173184e+13</td>\n",
       "      <td>5.680573e+06</td>\n",
       "      <td>37.000000</td>\n",
       "      <td>0.000000</td>\n",
       "      <td>0.000000</td>\n",
       "      <td>0.000000</td>\n",
       "      <td>0.000000</td>\n",
       "      <td>0.000000</td>\n",
       "      <td>0.000000</td>\n",
       "    </tr>\n",
       "    <tr>\n",
       "      <th>75%</th>\n",
       "      <td>9.439172e+13</td>\n",
       "      <td>5.725524e+06</td>\n",
       "      <td>55.000000</td>\n",
       "      <td>0.000000</td>\n",
       "      <td>0.000000</td>\n",
       "      <td>0.000000</td>\n",
       "      <td>0.000000</td>\n",
       "      <td>0.000000</td>\n",
       "      <td>1.000000</td>\n",
       "    </tr>\n",
       "    <tr>\n",
       "      <th>max</th>\n",
       "      <td>9.999816e+14</td>\n",
       "      <td>5.790484e+06</td>\n",
       "      <td>115.000000</td>\n",
       "      <td>1.000000</td>\n",
       "      <td>1.000000</td>\n",
       "      <td>1.000000</td>\n",
       "      <td>1.000000</td>\n",
       "      <td>4.000000</td>\n",
       "      <td>1.000000</td>\n",
       "    </tr>\n",
       "  </tbody>\n",
       "</table>\n",
       "</div>"
      ],
      "text/plain": [
       "          PatientId  AppointmentID            Age    Scholarship  \\\n",
       "count  1.105270e+05   1.105270e+05  110527.000000  110527.000000   \n",
       "mean   1.474963e+14   5.675305e+06      37.088874       0.098266   \n",
       "std    2.560949e+14   7.129575e+04      23.110205       0.297675   \n",
       "min    3.921784e+04   5.030230e+06      -1.000000       0.000000   \n",
       "25%    4.172614e+12   5.640286e+06      18.000000       0.000000   \n",
       "50%    3.173184e+13   5.680573e+06      37.000000       0.000000   \n",
       "75%    9.439172e+13   5.725524e+06      55.000000       0.000000   \n",
       "max    9.999816e+14   5.790484e+06     115.000000       1.000000   \n",
       "\n",
       "        Hipertension       Diabetes     Alcoholism        Handcap  \\\n",
       "count  110527.000000  110527.000000  110527.000000  110527.000000   \n",
       "mean        0.197246       0.071865       0.030400       0.022248   \n",
       "std         0.397921       0.258265       0.171686       0.161543   \n",
       "min         0.000000       0.000000       0.000000       0.000000   \n",
       "25%         0.000000       0.000000       0.000000       0.000000   \n",
       "50%         0.000000       0.000000       0.000000       0.000000   \n",
       "75%         0.000000       0.000000       0.000000       0.000000   \n",
       "max         1.000000       1.000000       1.000000       4.000000   \n",
       "\n",
       "        SMS_received  \n",
       "count  110527.000000  \n",
       "mean        0.321026  \n",
       "std         0.466873  \n",
       "min         0.000000  \n",
       "25%         0.000000  \n",
       "50%         0.000000  \n",
       "75%         1.000000  \n",
       "max         1.000000  "
      ]
     },
     "execution_count": 3,
     "metadata": {},
     "output_type": "execute_result"
    }
   ],
   "source": [
    "# Lets print some statistics about all parameters\n",
    "df_dataset.describe()"
   ]
  },
  {
   "cell_type": "code",
   "execution_count": 4,
   "metadata": {
    "colab": {},
    "colab_type": "code",
    "id": "kYPlxfY5Bu-x",
    "outputId": "10017bcb-77fd-4ccd-f848-f46cc2bf4120"
   },
   "outputs": [
    {
     "name": "stdout",
     "output_type": "stream",
     "text": [
      "<class 'pandas.core.frame.DataFrame'>\n",
      "RangeIndex: 110527 entries, 0 to 110526\n",
      "Data columns (total 14 columns):\n",
      "PatientId         110527 non-null float64\n",
      "AppointmentID     110527 non-null int64\n",
      "Gender            110527 non-null object\n",
      "ScheduledDay      110527 non-null object\n",
      "AppointmentDay    110527 non-null object\n",
      "Age               110527 non-null int64\n",
      "Neighbourhood     110527 non-null object\n",
      "Scholarship       110527 non-null int64\n",
      "Hipertension      110527 non-null int64\n",
      "Diabetes          110527 non-null int64\n",
      "Alcoholism        110527 non-null int64\n",
      "Handcap           110527 non-null int64\n",
      "SMS_received      110527 non-null int64\n",
      "No-show           110527 non-null object\n",
      "dtypes: float64(1), int64(8), object(5)\n",
      "memory usage: 11.8+ MB\n"
     ]
    }
   ],
   "source": [
    "# Lets print the datatype info for all paramenters\n",
    "df_dataset.info()"
   ]
  },
  {
   "cell_type": "markdown",
   "metadata": {
    "colab_type": "text",
    "id": "5TD4Y5QqBu-z"
   },
   "source": [
    "#### PaitentId\n",
    "This is an unique number to identify each paitent. It must be an integer. But from above we see it is **float64**.\n",
    "Lets print out those unique float values persent in this column."
   ]
  },
  {
   "cell_type": "code",
   "execution_count": 5,
   "metadata": {
    "colab": {},
    "colab_type": "code",
    "id": "dAbcCVpDBu-0",
    "outputId": "79c0d5aa-8302-4d13-9cf8-9c0e1adbd626"
   },
   "outputs": [
    {
     "name": "stdout",
     "output_type": "stream",
     "text": [
      "There are 5 patients_ids that are floats\n"
     ]
    },
    {
     "data": {
      "text/html": [
       "<div>\n",
       "<style scoped>\n",
       "    .dataframe tbody tr th:only-of-type {\n",
       "        vertical-align: middle;\n",
       "    }\n",
       "\n",
       "    .dataframe tbody tr th {\n",
       "        vertical-align: top;\n",
       "    }\n",
       "\n",
       "    .dataframe thead th {\n",
       "        text-align: right;\n",
       "    }\n",
       "</style>\n",
       "<table border=\"1\" class=\"dataframe\">\n",
       "  <thead>\n",
       "    <tr style=\"text-align: right;\">\n",
       "      <th></th>\n",
       "      <th>PatientId</th>\n",
       "      <th>AppointmentID</th>\n",
       "      <th>Gender</th>\n",
       "      <th>ScheduledDay</th>\n",
       "      <th>AppointmentDay</th>\n",
       "      <th>Age</th>\n",
       "      <th>Neighbourhood</th>\n",
       "      <th>Scholarship</th>\n",
       "      <th>Hipertension</th>\n",
       "      <th>Diabetes</th>\n",
       "      <th>Alcoholism</th>\n",
       "      <th>Handcap</th>\n",
       "      <th>SMS_received</th>\n",
       "      <th>No-show</th>\n",
       "    </tr>\n",
       "  </thead>\n",
       "  <tbody>\n",
       "    <tr>\n",
       "      <th>3950</th>\n",
       "      <td>93779.52927</td>\n",
       "      <td>5712759</td>\n",
       "      <td>F</td>\n",
       "      <td>2016-05-18T09:12:29Z</td>\n",
       "      <td>2016-05-18T00:00:00Z</td>\n",
       "      <td>33</td>\n",
       "      <td>CENTRO</td>\n",
       "      <td>0</td>\n",
       "      <td>0</td>\n",
       "      <td>0</td>\n",
       "      <td>0</td>\n",
       "      <td>0</td>\n",
       "      <td>0</td>\n",
       "      <td>No</td>\n",
       "    </tr>\n",
       "    <tr>\n",
       "      <th>73228</th>\n",
       "      <td>537615.28476</td>\n",
       "      <td>5637728</td>\n",
       "      <td>F</td>\n",
       "      <td>2016-04-29T07:19:57Z</td>\n",
       "      <td>2016-05-06T00:00:00Z</td>\n",
       "      <td>14</td>\n",
       "      <td>FORTE SÃO JOÃO</td>\n",
       "      <td>0</td>\n",
       "      <td>0</td>\n",
       "      <td>0</td>\n",
       "      <td>0</td>\n",
       "      <td>0</td>\n",
       "      <td>1</td>\n",
       "      <td>No</td>\n",
       "    </tr>\n",
       "    <tr>\n",
       "      <th>73303</th>\n",
       "      <td>141724.16655</td>\n",
       "      <td>5637648</td>\n",
       "      <td>M</td>\n",
       "      <td>2016-04-29T07:13:36Z</td>\n",
       "      <td>2016-05-02T00:00:00Z</td>\n",
       "      <td>12</td>\n",
       "      <td>FORTE SÃO JOÃO</td>\n",
       "      <td>0</td>\n",
       "      <td>0</td>\n",
       "      <td>0</td>\n",
       "      <td>0</td>\n",
       "      <td>0</td>\n",
       "      <td>0</td>\n",
       "      <td>No</td>\n",
       "    </tr>\n",
       "    <tr>\n",
       "      <th>100517</th>\n",
       "      <td>39217.84439</td>\n",
       "      <td>5751990</td>\n",
       "      <td>F</td>\n",
       "      <td>2016-05-31T10:56:41Z</td>\n",
       "      <td>2016-06-03T00:00:00Z</td>\n",
       "      <td>44</td>\n",
       "      <td>PRAIA DO SUÁ</td>\n",
       "      <td>0</td>\n",
       "      <td>0</td>\n",
       "      <td>0</td>\n",
       "      <td>0</td>\n",
       "      <td>0</td>\n",
       "      <td>0</td>\n",
       "      <td>No</td>\n",
       "    </tr>\n",
       "    <tr>\n",
       "      <th>105430</th>\n",
       "      <td>43741.75652</td>\n",
       "      <td>5760144</td>\n",
       "      <td>M</td>\n",
       "      <td>2016-06-01T14:22:58Z</td>\n",
       "      <td>2016-06-01T00:00:00Z</td>\n",
       "      <td>39</td>\n",
       "      <td>MARIA ORTIZ</td>\n",
       "      <td>0</td>\n",
       "      <td>0</td>\n",
       "      <td>1</td>\n",
       "      <td>0</td>\n",
       "      <td>0</td>\n",
       "      <td>0</td>\n",
       "      <td>No</td>\n",
       "    </tr>\n",
       "  </tbody>\n",
       "</table>\n",
       "</div>"
      ],
      "text/plain": [
       "           PatientId  AppointmentID Gender          ScheduledDay  \\\n",
       "3950     93779.52927        5712759      F  2016-05-18T09:12:29Z   \n",
       "73228   537615.28476        5637728      F  2016-04-29T07:19:57Z   \n",
       "73303   141724.16655        5637648      M  2016-04-29T07:13:36Z   \n",
       "100517   39217.84439        5751990      F  2016-05-31T10:56:41Z   \n",
       "105430   43741.75652        5760144      M  2016-06-01T14:22:58Z   \n",
       "\n",
       "              AppointmentDay  Age   Neighbourhood  Scholarship  Hipertension  \\\n",
       "3950    2016-05-18T00:00:00Z   33          CENTRO            0             0   \n",
       "73228   2016-05-06T00:00:00Z   14  FORTE SÃO JOÃO            0             0   \n",
       "73303   2016-05-02T00:00:00Z   12  FORTE SÃO JOÃO            0             0   \n",
       "100517  2016-06-03T00:00:00Z   44    PRAIA DO SUÁ            0             0   \n",
       "105430  2016-06-01T00:00:00Z   39     MARIA ORTIZ            0             0   \n",
       "\n",
       "        Diabetes  Alcoholism  Handcap  SMS_received No-show  \n",
       "3950           0           0        0             0      No  \n",
       "73228          0           0        0             1      No  \n",
       "73303          0           0        0             0      No  \n",
       "100517         0           0        0             0      No  \n",
       "105430         1           0        0             0      No  "
      ]
     },
     "execution_count": 5,
     "metadata": {},
     "output_type": "execute_result"
    }
   ],
   "source": [
    "# Checking each value if it is an integer, if yes then add them in a list\n",
    "patient_id_float = df_dataset[~ df_dataset.PatientId.apply(lambda x: x.is_integer())]\n",
    "print('There are {} patients_ids that are floats'.format(len(patient_id_float)))\n",
    "patient_id_float"
   ]
  },
  {
   "cell_type": "markdown",
   "metadata": {
    "colab_type": "text",
    "id": "0W9xil-rBu-3"
   },
   "source": [
    "Considering the huge amount of datapoints, dropping above 5 datapoints would have negligible impact."
   ]
  },
  {
   "cell_type": "code",
   "execution_count": 6,
   "metadata": {
    "colab": {},
    "colab_type": "code",
    "id": "8h3kMqI-Bu-3",
    "outputId": "5c302b46-936e-42f9-93ce-a6c8a485c544"
   },
   "outputs": [
    {
     "name": "stdout",
     "output_type": "stream",
     "text": [
      "<class 'pandas.core.frame.DataFrame'>\n",
      "Int64Index: 110522 entries, 0 to 110526\n",
      "Data columns (total 14 columns):\n",
      "PatientId         110522 non-null float64\n",
      "AppointmentID     110522 non-null int64\n",
      "Gender            110522 non-null object\n",
      "ScheduledDay      110522 non-null object\n",
      "AppointmentDay    110522 non-null object\n",
      "Age               110522 non-null int64\n",
      "Neighbourhood     110522 non-null object\n",
      "Scholarship       110522 non-null int64\n",
      "Hipertension      110522 non-null int64\n",
      "Diabetes          110522 non-null int64\n",
      "Alcoholism        110522 non-null int64\n",
      "Handcap           110522 non-null int64\n",
      "SMS_received      110522 non-null int64\n",
      "No-show           110522 non-null object\n",
      "dtypes: float64(1), int64(8), object(5)\n",
      "memory usage: 12.6+ MB\n"
     ]
    }
   ],
   "source": [
    "# Dropping the above identified datapoints\n",
    "df_dataset.drop([3950 , 73228 , 73303, 100517, 105430], inplace=True)\n",
    "df_dataset.info()"
   ]
  },
  {
   "cell_type": "markdown",
   "metadata": {
    "colab_type": "text",
    "id": "J1N1xmIdBu-5"
   },
   "source": [
    "### AppointmentID\n",
    "Ideally all Appointment IDs shall be unique. For 110522 entries we shall have 110522 unique appointment IDs. If not then an error is expected."
   ]
  },
  {
   "cell_type": "code",
   "execution_count": 7,
   "metadata": {
    "colab": {},
    "colab_type": "code",
    "id": "47k1WuMFBu-6",
    "outputId": "ce519693-a474-43f1-f601-942443c437a6"
   },
   "outputs": [
    {
     "name": "stdout",
     "output_type": "stream",
     "text": [
      "There are 110522 unique appointment ids against 110522 entries.\n"
     ]
    }
   ],
   "source": [
    "# Lets count the unique appointment ids in our dataset\n",
    "unique_app_id = df_dataset['AppointmentID'].nunique()\n",
    "print('There are {} unique appointment ids against 110522 entries.'.format(unique_app_id))"
   ]
  },
  {
   "cell_type": "markdown",
   "metadata": {
    "colab_type": "text",
    "id": "WhcC8VirBu-8"
   },
   "source": [
    "As expected all appointment ids are unique in our dataset.\n",
    "\n",
    "### Gender\n",
    "We expect that other than **F** and **M**, nothing else shall be present into Gender column.  \n",
    "Below you can see that above statement is TRUE."
   ]
  },
  {
   "cell_type": "code",
   "execution_count": 8,
   "metadata": {
    "colab": {},
    "colab_type": "code",
    "id": "M-1SHS7QBu-9",
    "outputId": "4f451408-4ec2-45db-c7bd-a524ab55d258"
   },
   "outputs": [
    {
     "name": "stdout",
     "output_type": "stream",
     "text": [
      "Unique values in Gender column are: ['F' 'M']\n"
     ]
    }
   ],
   "source": [
    "# Lets list unique values from Gender column\n",
    "print('Unique values in Gender column are:', format(df_dataset.Gender.unique()))"
   ]
  },
  {
   "cell_type": "markdown",
   "metadata": {
    "colab_type": "text",
    "id": "GFrxc50XBu_A"
   },
   "source": [
    "### ScheduledDay and AppointmentDay\n",
    "  \n",
    "These two parameters in the dataset are timestamps. The time part is not so relevant.  \n",
    "Lets extracts the date from these two parameters and assign them to two new columns. Using the information from date we can calculate how many days in advance appointments were booked. Lets create a third new columns for this calculationa as well."
   ]
  },
  {
   "cell_type": "code",
   "execution_count": 9,
   "metadata": {
    "colab": {},
    "colab_type": "code",
    "id": "uMtKGqQ7Bu_B",
    "outputId": "7935b088-9b50-47b3-b034-522c02539282"
   },
   "outputs": [
    {
     "data": {
      "text/html": [
       "<div>\n",
       "<style scoped>\n",
       "    .dataframe tbody tr th:only-of-type {\n",
       "        vertical-align: middle;\n",
       "    }\n",
       "\n",
       "    .dataframe tbody tr th {\n",
       "        vertical-align: top;\n",
       "    }\n",
       "\n",
       "    .dataframe thead th {\n",
       "        text-align: right;\n",
       "    }\n",
       "</style>\n",
       "<table border=\"1\" class=\"dataframe\">\n",
       "  <thead>\n",
       "    <tr style=\"text-align: right;\">\n",
       "      <th></th>\n",
       "      <th>PatientId</th>\n",
       "      <th>AppointmentID</th>\n",
       "      <th>Age</th>\n",
       "      <th>Scholarship</th>\n",
       "      <th>Hipertension</th>\n",
       "      <th>Diabetes</th>\n",
       "      <th>Alcoholism</th>\n",
       "      <th>Handcap</th>\n",
       "      <th>SMS_received</th>\n",
       "      <th>DaysAdvance</th>\n",
       "    </tr>\n",
       "  </thead>\n",
       "  <tbody>\n",
       "    <tr>\n",
       "      <th>count</th>\n",
       "      <td>1.105220e+05</td>\n",
       "      <td>1.105220e+05</td>\n",
       "      <td>110522.000000</td>\n",
       "      <td>110522.000000</td>\n",
       "      <td>110522.000000</td>\n",
       "      <td>110522.000000</td>\n",
       "      <td>110522.000000</td>\n",
       "      <td>110522.000000</td>\n",
       "      <td>110522.000000</td>\n",
       "      <td>110522.000000</td>\n",
       "    </tr>\n",
       "    <tr>\n",
       "      <th>mean</th>\n",
       "      <td>1.475029e+14</td>\n",
       "      <td>5.675304e+06</td>\n",
       "      <td>37.089267</td>\n",
       "      <td>0.098270</td>\n",
       "      <td>0.197255</td>\n",
       "      <td>0.071859</td>\n",
       "      <td>0.030401</td>\n",
       "      <td>0.022249</td>\n",
       "      <td>0.321031</td>\n",
       "      <td>10.184045</td>\n",
       "    </tr>\n",
       "    <tr>\n",
       "      <th>std</th>\n",
       "      <td>2.560988e+14</td>\n",
       "      <td>7.129627e+04</td>\n",
       "      <td>23.110487</td>\n",
       "      <td>0.297681</td>\n",
       "      <td>0.397928</td>\n",
       "      <td>0.258255</td>\n",
       "      <td>0.171689</td>\n",
       "      <td>0.161546</td>\n",
       "      <td>0.466875</td>\n",
       "      <td>15.255246</td>\n",
       "    </tr>\n",
       "    <tr>\n",
       "      <th>min</th>\n",
       "      <td>5.628261e+06</td>\n",
       "      <td>5.030230e+06</td>\n",
       "      <td>-1.000000</td>\n",
       "      <td>0.000000</td>\n",
       "      <td>0.000000</td>\n",
       "      <td>0.000000</td>\n",
       "      <td>0.000000</td>\n",
       "      <td>0.000000</td>\n",
       "      <td>0.000000</td>\n",
       "      <td>-6.000000</td>\n",
       "    </tr>\n",
       "    <tr>\n",
       "      <th>25%</th>\n",
       "      <td>4.173345e+12</td>\n",
       "      <td>5.640286e+06</td>\n",
       "      <td>18.000000</td>\n",
       "      <td>0.000000</td>\n",
       "      <td>0.000000</td>\n",
       "      <td>0.000000</td>\n",
       "      <td>0.000000</td>\n",
       "      <td>0.000000</td>\n",
       "      <td>0.000000</td>\n",
       "      <td>0.000000</td>\n",
       "    </tr>\n",
       "    <tr>\n",
       "      <th>50%</th>\n",
       "      <td>3.174215e+13</td>\n",
       "      <td>5.680572e+06</td>\n",
       "      <td>37.000000</td>\n",
       "      <td>0.000000</td>\n",
       "      <td>0.000000</td>\n",
       "      <td>0.000000</td>\n",
       "      <td>0.000000</td>\n",
       "      <td>0.000000</td>\n",
       "      <td>0.000000</td>\n",
       "      <td>4.000000</td>\n",
       "    </tr>\n",
       "    <tr>\n",
       "      <th>75%</th>\n",
       "      <td>9.439381e+13</td>\n",
       "      <td>5.725523e+06</td>\n",
       "      <td>55.000000</td>\n",
       "      <td>0.000000</td>\n",
       "      <td>0.000000</td>\n",
       "      <td>0.000000</td>\n",
       "      <td>0.000000</td>\n",
       "      <td>0.000000</td>\n",
       "      <td>1.000000</td>\n",
       "      <td>15.000000</td>\n",
       "    </tr>\n",
       "    <tr>\n",
       "      <th>max</th>\n",
       "      <td>9.999816e+14</td>\n",
       "      <td>5.790484e+06</td>\n",
       "      <td>115.000000</td>\n",
       "      <td>1.000000</td>\n",
       "      <td>1.000000</td>\n",
       "      <td>1.000000</td>\n",
       "      <td>1.000000</td>\n",
       "      <td>4.000000</td>\n",
       "      <td>1.000000</td>\n",
       "      <td>179.000000</td>\n",
       "    </tr>\n",
       "  </tbody>\n",
       "</table>\n",
       "</div>"
      ],
      "text/plain": [
       "          PatientId  AppointmentID            Age    Scholarship  \\\n",
       "count  1.105220e+05   1.105220e+05  110522.000000  110522.000000   \n",
       "mean   1.475029e+14   5.675304e+06      37.089267       0.098270   \n",
       "std    2.560988e+14   7.129627e+04      23.110487       0.297681   \n",
       "min    5.628261e+06   5.030230e+06      -1.000000       0.000000   \n",
       "25%    4.173345e+12   5.640286e+06      18.000000       0.000000   \n",
       "50%    3.174215e+13   5.680572e+06      37.000000       0.000000   \n",
       "75%    9.439381e+13   5.725523e+06      55.000000       0.000000   \n",
       "max    9.999816e+14   5.790484e+06     115.000000       1.000000   \n",
       "\n",
       "        Hipertension       Diabetes     Alcoholism        Handcap  \\\n",
       "count  110522.000000  110522.000000  110522.000000  110522.000000   \n",
       "mean        0.197255       0.071859       0.030401       0.022249   \n",
       "std         0.397928       0.258255       0.171689       0.161546   \n",
       "min         0.000000       0.000000       0.000000       0.000000   \n",
       "25%         0.000000       0.000000       0.000000       0.000000   \n",
       "50%         0.000000       0.000000       0.000000       0.000000   \n",
       "75%         0.000000       0.000000       0.000000       0.000000   \n",
       "max         1.000000       1.000000       1.000000       4.000000   \n",
       "\n",
       "        SMS_received    DaysAdvance  \n",
       "count  110522.000000  110522.000000  \n",
       "mean        0.321031      10.184045  \n",
       "std         0.466875      15.255246  \n",
       "min         0.000000      -6.000000  \n",
       "25%         0.000000       0.000000  \n",
       "50%         0.000000       4.000000  \n",
       "75%         1.000000      15.000000  \n",
       "max         1.000000     179.000000  "
      ]
     },
     "execution_count": 9,
     "metadata": {},
     "output_type": "execute_result"
    }
   ],
   "source": [
    "# Extracting dates from ScheduledDay & AppointmentDay in two new columns ScheduledDate & AppointmentDate by splitting\n",
    "# Extracting time from ScheduledDay & AppointmentDay in two new columns ScheduledTime & AppointmentTime by splitting\n",
    "df_dataset[['ScheduledDate','ScheduledTime']] = df_dataset.ScheduledDay.str.split(\"T\",expand=True)\n",
    "df_dataset[['AppointmentDate','AppointmentTime']] = df_dataset.AppointmentDay.str.split(\"T\",expand=True)\n",
    "\n",
    "# Changing data type for these two new date columns to DateTime Format\n",
    "df_dataset['ScheduledDate'] = pd.to_datetime(df_dataset['ScheduledDate'])\n",
    "df_dataset['AppointmentDate'] = pd.to_datetime(df_dataset['AppointmentDate'])\n",
    "\n",
    "# Dropping Time columns which are not needed anymore\n",
    "df_dataset.drop(['ScheduledTime', 'AppointmentTime'], axis=1, inplace = True)\n",
    "\n",
    "# Adding another new column to find how many days in advance an appointment was made?\n",
    "df_dataset['DaysToAppointment'] = df_dataset.apply(lambda row: row.AppointmentDate - row.ScheduledDate, axis=1)\n",
    "df_dataset['DaysAdvance'] = df_dataset.DaysToAppointment.astype('timedelta64[D]')\n",
    "df_dataset.drop(['DaysToAppointment'], axis=1, inplace = True)\n",
    "\n",
    "#Lets checkout some facts about of this new column 'DaysAdvance'\n",
    "df_dataset.describe()"
   ]
  },
  {
   "cell_type": "markdown",
   "metadata": {
    "colab_type": "text",
    "id": "VuO2s4OKBu_E"
   },
   "source": [
    "The minimum value in **DaysAdvance** is -6 days.  \n",
    "This means that in our dataset, their are some datapoints which says apponitment were made for days which already passed. This is not possible since one can make appointment for same day (DaysAdvance = 0) or in advance (DaysAdvance > 0).  \n",
    "So lets drop all those datapoints where DaysAdvance < 0."
   ]
  },
  {
   "cell_type": "code",
   "execution_count": 10,
   "metadata": {
    "colab": {},
    "colab_type": "code",
    "id": "YRzceYwfBu_F",
    "outputId": "efdcaf39-8681-427f-fbdc-040ef7677573"
   },
   "outputs": [
    {
     "data": {
      "text/html": [
       "<div>\n",
       "<style scoped>\n",
       "    .dataframe tbody tr th:only-of-type {\n",
       "        vertical-align: middle;\n",
       "    }\n",
       "\n",
       "    .dataframe tbody tr th {\n",
       "        vertical-align: top;\n",
       "    }\n",
       "\n",
       "    .dataframe thead th {\n",
       "        text-align: right;\n",
       "    }\n",
       "</style>\n",
       "<table border=\"1\" class=\"dataframe\">\n",
       "  <thead>\n",
       "    <tr style=\"text-align: right;\">\n",
       "      <th></th>\n",
       "      <th>PatientId</th>\n",
       "      <th>AppointmentID</th>\n",
       "      <th>Age</th>\n",
       "      <th>Scholarship</th>\n",
       "      <th>Hipertension</th>\n",
       "      <th>Diabetes</th>\n",
       "      <th>Alcoholism</th>\n",
       "      <th>Handcap</th>\n",
       "      <th>SMS_received</th>\n",
       "      <th>DaysAdvance</th>\n",
       "    </tr>\n",
       "  </thead>\n",
       "  <tbody>\n",
       "    <tr>\n",
       "      <th>count</th>\n",
       "      <td>1.105170e+05</td>\n",
       "      <td>1.105170e+05</td>\n",
       "      <td>110517.000000</td>\n",
       "      <td>110517.000000</td>\n",
       "      <td>110517.000000</td>\n",
       "      <td>110517.000000</td>\n",
       "      <td>110517.000000</td>\n",
       "      <td>110517.000000</td>\n",
       "      <td>110517.000000</td>\n",
       "      <td>110517.000000</td>\n",
       "    </tr>\n",
       "    <tr>\n",
       "      <th>mean</th>\n",
       "      <td>1.475002e+14</td>\n",
       "      <td>5.675304e+06</td>\n",
       "      <td>37.089434</td>\n",
       "      <td>0.098274</td>\n",
       "      <td>0.197264</td>\n",
       "      <td>0.071862</td>\n",
       "      <td>0.030403</td>\n",
       "      <td>0.022232</td>\n",
       "      <td>0.321046</td>\n",
       "      <td>10.184596</td>\n",
       "    </tr>\n",
       "    <tr>\n",
       "      <th>std</th>\n",
       "      <td>2.560905e+14</td>\n",
       "      <td>7.129773e+04</td>\n",
       "      <td>23.110346</td>\n",
       "      <td>0.297687</td>\n",
       "      <td>0.397935</td>\n",
       "      <td>0.258261</td>\n",
       "      <td>0.171693</td>\n",
       "      <td>0.161496</td>\n",
       "      <td>0.466880</td>\n",
       "      <td>15.255365</td>\n",
       "    </tr>\n",
       "    <tr>\n",
       "      <th>min</th>\n",
       "      <td>5.628261e+06</td>\n",
       "      <td>5.030230e+06</td>\n",
       "      <td>-1.000000</td>\n",
       "      <td>0.000000</td>\n",
       "      <td>0.000000</td>\n",
       "      <td>0.000000</td>\n",
       "      <td>0.000000</td>\n",
       "      <td>0.000000</td>\n",
       "      <td>0.000000</td>\n",
       "      <td>0.000000</td>\n",
       "    </tr>\n",
       "    <tr>\n",
       "      <th>25%</th>\n",
       "      <td>4.173166e+12</td>\n",
       "      <td>5.640285e+06</td>\n",
       "      <td>18.000000</td>\n",
       "      <td>0.000000</td>\n",
       "      <td>0.000000</td>\n",
       "      <td>0.000000</td>\n",
       "      <td>0.000000</td>\n",
       "      <td>0.000000</td>\n",
       "      <td>0.000000</td>\n",
       "      <td>0.000000</td>\n",
       "    </tr>\n",
       "    <tr>\n",
       "      <th>50%</th>\n",
       "      <td>3.174490e+13</td>\n",
       "      <td>5.680573e+06</td>\n",
       "      <td>37.000000</td>\n",
       "      <td>0.000000</td>\n",
       "      <td>0.000000</td>\n",
       "      <td>0.000000</td>\n",
       "      <td>0.000000</td>\n",
       "      <td>0.000000</td>\n",
       "      <td>0.000000</td>\n",
       "      <td>4.000000</td>\n",
       "    </tr>\n",
       "    <tr>\n",
       "      <th>75%</th>\n",
       "      <td>9.439381e+13</td>\n",
       "      <td>5.725524e+06</td>\n",
       "      <td>55.000000</td>\n",
       "      <td>0.000000</td>\n",
       "      <td>0.000000</td>\n",
       "      <td>0.000000</td>\n",
       "      <td>0.000000</td>\n",
       "      <td>0.000000</td>\n",
       "      <td>1.000000</td>\n",
       "      <td>15.000000</td>\n",
       "    </tr>\n",
       "    <tr>\n",
       "      <th>max</th>\n",
       "      <td>9.999816e+14</td>\n",
       "      <td>5.790484e+06</td>\n",
       "      <td>115.000000</td>\n",
       "      <td>1.000000</td>\n",
       "      <td>1.000000</td>\n",
       "      <td>1.000000</td>\n",
       "      <td>1.000000</td>\n",
       "      <td>4.000000</td>\n",
       "      <td>1.000000</td>\n",
       "      <td>179.000000</td>\n",
       "    </tr>\n",
       "  </tbody>\n",
       "</table>\n",
       "</div>"
      ],
      "text/plain": [
       "          PatientId  AppointmentID            Age    Scholarship  \\\n",
       "count  1.105170e+05   1.105170e+05  110517.000000  110517.000000   \n",
       "mean   1.475002e+14   5.675304e+06      37.089434       0.098274   \n",
       "std    2.560905e+14   7.129773e+04      23.110346       0.297687   \n",
       "min    5.628261e+06   5.030230e+06      -1.000000       0.000000   \n",
       "25%    4.173166e+12   5.640285e+06      18.000000       0.000000   \n",
       "50%    3.174490e+13   5.680573e+06      37.000000       0.000000   \n",
       "75%    9.439381e+13   5.725524e+06      55.000000       0.000000   \n",
       "max    9.999816e+14   5.790484e+06     115.000000       1.000000   \n",
       "\n",
       "        Hipertension       Diabetes     Alcoholism        Handcap  \\\n",
       "count  110517.000000  110517.000000  110517.000000  110517.000000   \n",
       "mean        0.197264       0.071862       0.030403       0.022232   \n",
       "std         0.397935       0.258261       0.171693       0.161496   \n",
       "min         0.000000       0.000000       0.000000       0.000000   \n",
       "25%         0.000000       0.000000       0.000000       0.000000   \n",
       "50%         0.000000       0.000000       0.000000       0.000000   \n",
       "75%         0.000000       0.000000       0.000000       0.000000   \n",
       "max         1.000000       1.000000       1.000000       4.000000   \n",
       "\n",
       "        SMS_received    DaysAdvance  \n",
       "count  110517.000000  110517.000000  \n",
       "mean        0.321046      10.184596  \n",
       "std         0.466880      15.255365  \n",
       "min         0.000000       0.000000  \n",
       "25%         0.000000       0.000000  \n",
       "50%         0.000000       4.000000  \n",
       "75%         1.000000      15.000000  \n",
       "max         1.000000     179.000000  "
      ]
     },
     "execution_count": 10,
     "metadata": {},
     "output_type": "execute_result"
    }
   ],
   "source": [
    "# Removing all datapoints where DaysAdvance < 0\n",
    "df_dataset.drop(df_dataset.index[df_dataset['AppointmentDate'] < df_dataset['ScheduledDate']], inplace = True)\n",
    "\n",
    "# Lets drop the two day and two date columns as well\n",
    "df_dataset.drop(['AppointmentDate', 'ScheduledDate', 'ScheduledDay', 'AppointmentDay'], axis=1, inplace = True)\n",
    "df_dataset.describe()"
   ]
  },
  {
   "cell_type": "markdown",
   "metadata": {
    "colab_type": "text",
    "id": "ZeBA399kBu_H"
   },
   "source": [
    "### Age  \n",
    "It is known fact that age can never be negative for alive paitients.  \n",
    "But as we can see in cell above that minimum age in our dataset is -1.  \n",
    "So lets clean the dataset and remove all datapoints with Age < 0."
   ]
  },
  {
   "cell_type": "code",
   "execution_count": 11,
   "metadata": {
    "colab": {},
    "colab_type": "code",
    "id": "R9NV3H8cBu_I",
    "outputId": "84387805-494d-4315-8c05-947b7641268d"
   },
   "outputs": [
    {
     "name": "stdout",
     "output_type": "stream",
     "text": [
      "Unique values in Age column are: [ 62  56   8  76  23  39  21  19  30  29  22  28  54  15  50  40  46   4\n",
      "  13  65  45  51  32  12  61  38  79  18  63  64  85  59  55  71  49  78\n",
      "  31  58  27   6   2  11   7   0   3   1  69  68  60  67  36  10  35  20\n",
      "  26  34  33  16  42   5  47  17  41  44  37  24  66  77  81  70  53  75\n",
      "  73  52  74  43  89  57  14   9  48  83  72  25  80  87  88  84  82  90\n",
      "  94  86  91  98  92  96  93  95  97 102 115 100  99  -1]\n"
     ]
    }
   ],
   "source": [
    "# Lets see what are the unique ages in our dataset\n",
    "print('Unique values in Age column are:', format(df_dataset.Age.unique()))"
   ]
  },
  {
   "cell_type": "code",
   "execution_count": 12,
   "metadata": {
    "colab": {},
    "colab_type": "code",
    "id": "W9u46sChBu_K",
    "outputId": "8f02e314-d44d-484d-dac9-e01f0a8b4238"
   },
   "outputs": [
    {
     "name": "stdout",
     "output_type": "stream",
     "text": [
      "Number of Rows in dataframe in which Age < 0 :  1\n"
     ]
    }
   ],
   "source": [
    "# As expected, we have all ages as integer values and one age as -1.\n",
    "# Let's count number of rows with Age < 0.\n",
    "\n",
    "NegativeAge = df_dataset.apply(lambda x: True if x['Age'] < 0 else False , axis=1)\n",
    " \n",
    "# Count number of True cases in new series created above\n",
    "numOfRows = len(NegativeAge[NegativeAge == True].index)\n",
    " \n",
    "print('Number of Rows in dataframe in which Age < 0 : ', numOfRows)"
   ]
  },
  {
   "cell_type": "code",
   "execution_count": 13,
   "metadata": {
    "colab": {},
    "colab_type": "code",
    "id": "pL02boK4Bu_M",
    "outputId": "025a1b75-68c4-4ea6-b444-723acccc0a1d"
   },
   "outputs": [
    {
     "data": {
      "text/html": [
       "<div>\n",
       "<style scoped>\n",
       "    .dataframe tbody tr th:only-of-type {\n",
       "        vertical-align: middle;\n",
       "    }\n",
       "\n",
       "    .dataframe tbody tr th {\n",
       "        vertical-align: top;\n",
       "    }\n",
       "\n",
       "    .dataframe thead th {\n",
       "        text-align: right;\n",
       "    }\n",
       "</style>\n",
       "<table border=\"1\" class=\"dataframe\">\n",
       "  <thead>\n",
       "    <tr style=\"text-align: right;\">\n",
       "      <th></th>\n",
       "      <th>PatientId</th>\n",
       "      <th>AppointmentID</th>\n",
       "      <th>Age</th>\n",
       "      <th>Scholarship</th>\n",
       "      <th>Hipertension</th>\n",
       "      <th>Diabetes</th>\n",
       "      <th>Alcoholism</th>\n",
       "      <th>Handcap</th>\n",
       "      <th>SMS_received</th>\n",
       "      <th>DaysAdvance</th>\n",
       "    </tr>\n",
       "  </thead>\n",
       "  <tbody>\n",
       "    <tr>\n",
       "      <th>count</th>\n",
       "      <td>1.105160e+05</td>\n",
       "      <td>1.105160e+05</td>\n",
       "      <td>110516.000000</td>\n",
       "      <td>110516.000000</td>\n",
       "      <td>110516.000000</td>\n",
       "      <td>110516.000000</td>\n",
       "      <td>110516.000000</td>\n",
       "      <td>110516.000000</td>\n",
       "      <td>110516.000000</td>\n",
       "      <td>110516.000000</td>\n",
       "    </tr>\n",
       "    <tr>\n",
       "      <th>mean</th>\n",
       "      <td>1.474973e+14</td>\n",
       "      <td>5.675303e+06</td>\n",
       "      <td>37.089779</td>\n",
       "      <td>0.098275</td>\n",
       "      <td>0.197266</td>\n",
       "      <td>0.071863</td>\n",
       "      <td>0.030403</td>\n",
       "      <td>0.022232</td>\n",
       "      <td>0.321049</td>\n",
       "      <td>10.184688</td>\n",
       "    </tr>\n",
       "    <tr>\n",
       "      <th>std</th>\n",
       "      <td>2.560898e+14</td>\n",
       "      <td>7.129743e+04</td>\n",
       "      <td>23.110167</td>\n",
       "      <td>0.297688</td>\n",
       "      <td>0.397936</td>\n",
       "      <td>0.258262</td>\n",
       "      <td>0.171694</td>\n",
       "      <td>0.161497</td>\n",
       "      <td>0.466882</td>\n",
       "      <td>15.255403</td>\n",
       "    </tr>\n",
       "    <tr>\n",
       "      <th>min</th>\n",
       "      <td>5.628261e+06</td>\n",
       "      <td>5.030230e+06</td>\n",
       "      <td>0.000000</td>\n",
       "      <td>0.000000</td>\n",
       "      <td>0.000000</td>\n",
       "      <td>0.000000</td>\n",
       "      <td>0.000000</td>\n",
       "      <td>0.000000</td>\n",
       "      <td>0.000000</td>\n",
       "      <td>0.000000</td>\n",
       "    </tr>\n",
       "    <tr>\n",
       "      <th>25%</th>\n",
       "      <td>4.173120e+12</td>\n",
       "      <td>5.640285e+06</td>\n",
       "      <td>18.000000</td>\n",
       "      <td>0.000000</td>\n",
       "      <td>0.000000</td>\n",
       "      <td>0.000000</td>\n",
       "      <td>0.000000</td>\n",
       "      <td>0.000000</td>\n",
       "      <td>0.000000</td>\n",
       "      <td>0.000000</td>\n",
       "    </tr>\n",
       "    <tr>\n",
       "      <th>50%</th>\n",
       "      <td>3.174353e+13</td>\n",
       "      <td>5.680572e+06</td>\n",
       "      <td>37.000000</td>\n",
       "      <td>0.000000</td>\n",
       "      <td>0.000000</td>\n",
       "      <td>0.000000</td>\n",
       "      <td>0.000000</td>\n",
       "      <td>0.000000</td>\n",
       "      <td>0.000000</td>\n",
       "      <td>4.000000</td>\n",
       "    </tr>\n",
       "    <tr>\n",
       "      <th>75%</th>\n",
       "      <td>9.439381e+13</td>\n",
       "      <td>5.725523e+06</td>\n",
       "      <td>55.000000</td>\n",
       "      <td>0.000000</td>\n",
       "      <td>0.000000</td>\n",
       "      <td>0.000000</td>\n",
       "      <td>0.000000</td>\n",
       "      <td>0.000000</td>\n",
       "      <td>1.000000</td>\n",
       "      <td>15.000000</td>\n",
       "    </tr>\n",
       "    <tr>\n",
       "      <th>max</th>\n",
       "      <td>9.999816e+14</td>\n",
       "      <td>5.790484e+06</td>\n",
       "      <td>115.000000</td>\n",
       "      <td>1.000000</td>\n",
       "      <td>1.000000</td>\n",
       "      <td>1.000000</td>\n",
       "      <td>1.000000</td>\n",
       "      <td>4.000000</td>\n",
       "      <td>1.000000</td>\n",
       "      <td>179.000000</td>\n",
       "    </tr>\n",
       "  </tbody>\n",
       "</table>\n",
       "</div>"
      ],
      "text/plain": [
       "          PatientId  AppointmentID            Age    Scholarship  \\\n",
       "count  1.105160e+05   1.105160e+05  110516.000000  110516.000000   \n",
       "mean   1.474973e+14   5.675303e+06      37.089779       0.098275   \n",
       "std    2.560898e+14   7.129743e+04      23.110167       0.297688   \n",
       "min    5.628261e+06   5.030230e+06       0.000000       0.000000   \n",
       "25%    4.173120e+12   5.640285e+06      18.000000       0.000000   \n",
       "50%    3.174353e+13   5.680572e+06      37.000000       0.000000   \n",
       "75%    9.439381e+13   5.725523e+06      55.000000       0.000000   \n",
       "max    9.999816e+14   5.790484e+06     115.000000       1.000000   \n",
       "\n",
       "        Hipertension       Diabetes     Alcoholism        Handcap  \\\n",
       "count  110516.000000  110516.000000  110516.000000  110516.000000   \n",
       "mean        0.197266       0.071863       0.030403       0.022232   \n",
       "std         0.397936       0.258262       0.171694       0.161497   \n",
       "min         0.000000       0.000000       0.000000       0.000000   \n",
       "25%         0.000000       0.000000       0.000000       0.000000   \n",
       "50%         0.000000       0.000000       0.000000       0.000000   \n",
       "75%         0.000000       0.000000       0.000000       0.000000   \n",
       "max         1.000000       1.000000       1.000000       4.000000   \n",
       "\n",
       "        SMS_received    DaysAdvance  \n",
       "count  110516.000000  110516.000000  \n",
       "mean        0.321049      10.184688  \n",
       "std         0.466882      15.255403  \n",
       "min         0.000000       0.000000  \n",
       "25%         0.000000       0.000000  \n",
       "50%         0.000000       4.000000  \n",
       "75%         1.000000      15.000000  \n",
       "max         1.000000     179.000000  "
      ]
     },
     "execution_count": 13,
     "metadata": {},
     "output_type": "execute_result"
    }
   ],
   "source": [
    "# There is only one row, so lets drop this row from our dataset\n",
    "df_dataset.drop(df_dataset.index[df_dataset['Age'] < 0], inplace = True)\n",
    "df_dataset.describe()"
   ]
  },
  {
   "cell_type": "markdown",
   "metadata": {
    "colab_type": "text",
    "id": "NhvUXqTrBu_P"
   },
   "source": [
    "### Handcap  (Renaming to *_Handicap_*)\n",
    "Let's rename this column to *'Handicap'*. It is of type Integer and has min_value = 0 and max_value = 4.\n",
    "Let's also list the unique values in this column."
   ]
  },
  {
   "cell_type": "code",
   "execution_count": 14,
   "metadata": {
    "colab": {},
    "colab_type": "code",
    "id": "K9azTNQ3Bu_P",
    "outputId": "49a253e9-104a-44cd-d845-6693accc30d3"
   },
   "outputs": [
    {
     "name": "stdout",
     "output_type": "stream",
     "text": [
      "Unique values in Handicap column are: [0 1 2 3 4]\n"
     ]
    }
   ],
   "source": [
    "# Renaming the column header from Handcap to Handicap\n",
    "df_dataset.rename(columns={'Handcap': 'Handicap'}, inplace=True)\n",
    "\n",
    "# Listing the unique values in Handicap column\n",
    "print('Unique values in Handicap column are:', format(df_dataset.Handicap.unique()))"
   ]
  },
  {
   "cell_type": "markdown",
   "metadata": {
    "colab_type": "text",
    "id": "Y5rQ4FhrBu_S"
   },
   "source": [
    "We could interpret that [0 1 2 3 4] corresponds to different levels of disability with 0 being abled person to 4 being most impacted person.  \n",
    "Data in this column looks good and hence no more actions.  \n",
    "  \n",
    "### Other Columns\n",
    "Remaining other columns (listed below) are all of integer type and with min_value = 0 and max_value = 1.  \n",
    "> * Scholarship\n",
    "> * Hipertension\n",
    "> * Diabetes\n",
    "> * Alcoholism\n",
    "> * SMS_received\n",
    "\n",
    "Let's list the unique values in these remaining columns and if we expect to find only '0' and '1'.  \n",
    "If we see anything else then further investigation is needed."
   ]
  },
  {
   "cell_type": "code",
   "execution_count": 15,
   "metadata": {
    "colab": {},
    "colab_type": "code",
    "id": "39AeqmTwBu_T",
    "outputId": "4bb1f59a-ff87-41f4-c553-cda2ced71f5f"
   },
   "outputs": [
    {
     "name": "stdout",
     "output_type": "stream",
     "text": [
      "Unique values in Scholarship column are: [0 1]\n",
      "Unique values in Hipertension column are: [1 0]\n",
      "Unique values in Diabetes column are: [0 1]\n",
      "Unique values in Alcoholism column are: [0 1]\n",
      "Unique values in SMS_received column are: [0 1]\n"
     ]
    }
   ],
   "source": [
    "# Listing the unique values in Scholarship column\n",
    "print('Unique values in Scholarship column are:', format(df_dataset.Scholarship.unique()))\n",
    "\n",
    "# Listing the unique values in Hipertension column\n",
    "print('Unique values in Hipertension column are:', format(df_dataset.Hipertension.unique()))\n",
    "\n",
    "# Listing the unique values in Diabetes column\n",
    "print('Unique values in Diabetes column are:', format(df_dataset.Diabetes.unique()))\n",
    "\n",
    "# Listing the unique values in Alcoholism column\n",
    "print('Unique values in Alcoholism column are:', format(df_dataset.Alcoholism.unique()))\n",
    "\n",
    "# Listing the unique values in SMS_received column\n",
    "print('Unique values in SMS_received column are:', format(df_dataset.SMS_received.unique()))"
   ]
  },
  {
   "cell_type": "markdown",
   "metadata": {
    "colab_type": "text",
    "id": "K69cACc_Bu_V"
   },
   "source": [
    "Data in remaining columns seems consistence with our expectation.  \n",
    "  \n",
    "### Neighbourhood  \n",
    "  \n",
    "Let see hospitals from how many unique areas are involved."
   ]
  },
  {
   "cell_type": "code",
   "execution_count": 16,
   "metadata": {
    "colab": {},
    "colab_type": "code",
    "id": "gfemmM__Bu_V",
    "outputId": "d9e377b9-e5b9-49a1-8699-06cd3a1a5b21"
   },
   "outputs": [
    {
     "name": "stdout",
     "output_type": "stream",
     "text": [
      "There are 81 unique Neighbourhoods in our dataset.\n",
      "Unique Neighbourhoods are: \n",
      "['AEROPORTO' 'ANDORINHAS' 'ANTÔNIO HONÓRIO' 'ARIOVALDO FAVALESSA'\n",
      " 'BARRO VERMELHO' 'BELA VISTA' 'BENTO FERREIRA' 'BOA VISTA' 'BONFIM'\n",
      " 'CARATOÍRA' 'CENTRO' 'COMDUSA' 'CONQUISTA' 'CONSOLAÇÃO' 'CRUZAMENTO'\n",
      " 'DA PENHA' 'DE LOURDES' 'DO CABRAL' 'DO MOSCOSO' 'DO QUADRO'\n",
      " 'ENSEADA DO SUÁ' 'ESTRELINHA' 'FONTE GRANDE' 'FORTE SÃO JOÃO' 'FRADINHOS'\n",
      " 'GOIABEIRAS' 'GRANDE VITÓRIA' 'GURIGICA' 'HORTO' 'ILHA DAS CAIEIRAS'\n",
      " 'ILHA DE SANTA MARIA' 'ILHA DO BOI' 'ILHA DO FRADE' 'ILHA DO PRÍNCIPE'\n",
      " 'ILHAS OCEÂNICAS DE TRINDADE' 'INHANGUETÁ' 'ITARARÉ' 'JABOUR'\n",
      " 'JARDIM CAMBURI' 'JARDIM DA PENHA' 'JESUS DE NAZARETH' 'JOANA D´ARC'\n",
      " 'JUCUTUQUARA' 'MARIA ORTIZ' 'MARUÍPE' 'MATA DA PRAIA' 'MONTE BELO'\n",
      " 'MORADA DE CAMBURI' 'MÁRIO CYPRESTE' 'NAZARETH' 'NOVA PALESTINA'\n",
      " 'PARQUE INDUSTRIAL' 'PARQUE MOSCOSO' 'PIEDADE' 'PONTAL DE CAMBURI'\n",
      " 'PRAIA DO CANTO' 'PRAIA DO SUÁ' 'REDENÇÃO' 'REPÚBLICA' 'RESISTÊNCIA'\n",
      " 'ROMÃO' 'SANTA CECÍLIA' 'SANTA CLARA' 'SANTA HELENA' 'SANTA LUÍZA'\n",
      " 'SANTA LÚCIA' 'SANTA MARTHA' 'SANTA TEREZA' 'SANTO ANDRÉ' 'SANTO ANTÔNIO'\n",
      " 'SANTOS DUMONT' 'SANTOS REIS' 'SEGURANÇA DO LAR' 'SOLON BORGES'\n",
      " 'SÃO BENEDITO' 'SÃO CRISTÓVÃO' 'SÃO JOSÉ' 'SÃO PEDRO' 'TABUAZEIRO'\n",
      " 'UNIVERSITÁRIO' 'VILA RUBIM']\n"
     ]
    }
   ],
   "source": [
    "# Lets count the unique Neighbourhoods from our dataset\n",
    "unique_Neighbourhoods = df_dataset['Neighbourhood'].nunique()\n",
    "print('There are {} unique Neighbourhoods in our dataset.'.format(unique_Neighbourhoods))\n",
    "\n",
    "# Listing the unique Neighbourhoods\n",
    "Neighbourhoods = df_dataset.Neighbourhood.unique()\n",
    "print('Unique Neighbourhoods are: ')\n",
    "Neighbourhoods.sort()\n",
    "print (Neighbourhoods)"
   ]
  },
  {
   "cell_type": "markdown",
   "metadata": {
    "colab_type": "text",
    "id": "lKfAMvtTBu_Y"
   },
   "source": [
    "All 81 Neighbourhoods are unique and no more alignment is this parameter needed.  \n",
    "  \n",
    "### No-show  \n",
    "This column represnts the status if Paitent shows up as scheduled appointment or not. Lets see what values are present into this column."
   ]
  },
  {
   "cell_type": "code",
   "execution_count": 17,
   "metadata": {
    "colab": {},
    "colab_type": "code",
    "id": "XW_H3noWBu_Z",
    "outputId": "ac44f360-58e1-4c8e-bd3f-d7992e267f00"
   },
   "outputs": [
    {
     "name": "stdout",
     "output_type": "stream",
     "text": [
      "Unique values in NoShow column are: ['No' 'Yes']\n"
     ]
    }
   ],
   "source": [
    "# Their is a need to rename the column because in next line of code we recieve and error due to hypen symbol.\n",
    "df_dataset.rename(columns={'No-show': 'NoShow'}, inplace=True)\n",
    "\n",
    "# Listing the unique values in NoShow column\n",
    "print('Unique values in NoShow column are:', format(df_dataset.NoShow.unique()))"
   ]
  },
  {
   "cell_type": "markdown",
   "metadata": {
    "colab_type": "text",
    "id": "HhRLEgiVBu_b"
   },
   "source": [
    "When NoShow = No, it means the appointment was a success as planned.  \n",
    "When NoShow = Yes, it means the paitent didnot show-up as scheduled.\n",
    "\n",
    "To be inline with other columns, where binary values '0' & '1' are used, the values in NoShow column will be updated as:\n",
    "> NoShow = 0, it means the appointment was a success as planned.  \n",
    "> NoShow = 1, it means the paitent didnot show-up as scheduled."
   ]
  },
  {
   "cell_type": "code",
   "execution_count": 18,
   "metadata": {},
   "outputs": [
    {
     "name": "stdout",
     "output_type": "stream",
     "text": [
      "Unique values in NoShow column are: [0 1]\n"
     ]
    }
   ],
   "source": [
    "# updateing the values in NoShow column, No by 0 and Yeas by 1.\n",
    "df_dataset['NoShow'] = df_dataset['NoShow'].map({'No': 0, 'Yes': 1})\n",
    "\n",
    "# Listing the unique values in NoShow column\n",
    "print('Unique values in NoShow column are:', format(df_dataset.NoShow.unique()))"
   ]
  },
  {
   "cell_type": "markdown",
   "metadata": {
    "colab_type": "text",
    "id": "AS1atrbpBu_g"
   },
   "source": [
    "<a id='eda'></a>\n",
    "## Exploratory Data Analysis\n",
    "  \n",
    "### Research Question 1 : Is their any correlation observed between different parameters?\n",
    "\n",
    "Using the cleaned dataset, now lets plot a correlation matrix to  if we can find any strong correlation between all available parameters."
   ]
  },
  {
   "cell_type": "code",
   "execution_count": 19,
   "metadata": {},
   "outputs": [
    {
     "data": {
      "text/plain": [
       "<matplotlib.axes._subplots.AxesSubplot at 0x7f9a80aa4be0>"
      ]
     },
     "execution_count": 19,
     "metadata": {},
     "output_type": "execute_result"
    },
    {
     "data": {
      "image/png": "[encoded data removed]",
      "text/plain": [
       "<Figure size 432x288 with 2 Axes>"
      ]
     },
     "metadata": {
      "needs_background": "light"
     },
     "output_type": "display_data"
    }
   ],
   "source": [
    "# Plotting correlation matrix on whole of dataset\n",
    "corr = df_dataset.corr()\n",
    "sns.heatmap(corr, xticklabels=corr.columns.values, yticklabels=corr.columns.values)"
   ]
  },
  {
   "cell_type": "markdown",
   "metadata": {},
   "source": [
    "A strong positive correlation is visible between Age, Hipertension and Diabetes. When one increases the other increases as well."
   ]
  },
  {
   "cell_type": "markdown",
   "metadata": {},
   "source": [
    "### Research Question 2 : What is the overall success of Show against No-Show?"
   ]
  },
  {
   "cell_type": "code",
   "execution_count": 20,
   "metadata": {},
   "outputs": [
    {
     "name": "stdout",
     "output_type": "stream",
     "text": [
      "79.8% of appointments were sucessful.\n"
     ]
    },
    {
     "data": {
      "image/png": "[encoded data removed]",
      "text/plain": [
       "<Figure size 720x720 with 1 Axes>"
      ]
     },
     "metadata": {},
     "output_type": "display_data"
    }
   ],
   "source": [
    "# Total appointment details Show / No-Show in our dataset\n",
    "Show_status = df_dataset['NoShow'].value_counts()\n",
    "\n",
    "# Total No-shows in our dataset\n",
    "NoShow_count = Show_status[1]\n",
    "\n",
    "# Total shows in our dataset\n",
    "Show_count = Show_status[0]\n",
    "\n",
    "# Success percentage of show\n",
    "rate = round((Show_count/(Show_count+NoShow_count))*100,1)\n",
    "\n",
    "print('{}% of appointments were sucessful.'.format(rate))\n",
    "pieChart = Show_status.plot.pie(figsize=(10,10), autopct='%1.1f%%', fontsize = 12);\n",
    "pieChart.set_title(\"Over appointment success rate\" + '(%)', fontsize = 15);\n",
    "plt.legend();"
   ]
  },
  {
   "cell_type": "markdown",
   "metadata": {
    "colab_type": "text",
    "id": "Ws0ETpefBu_j"
   },
   "source": [
    "### Research Question 3: Is Age, Handicap, SMS reminders, Scholarship or Advance Appointment booking a factor contributing to Show / No-Show?  \n",
    "  \n",
    "Lets find out how age is distributed."
   ]
  },
  {
   "cell_type": "code",
   "execution_count": 21,
   "metadata": {
    "colab": {},
    "colab_type": "code",
    "id": "N3jqT1ZDBu_j"
   },
   "outputs": [
    {
     "name": "stdout",
     "output_type": "stream",
     "text": [
      "              Age         \n",
      "             mean min  max\n",
      "NoShow                    \n",
      "0       37.791036   0  115\n",
      "1       34.317872   0  115\n",
      "\n",
      "\n",
      "        Handicap        \n",
      "            mean min max\n",
      "NoShow                  \n",
      "0       0.022743   0   4\n",
      "1       0.020212   0   4\n",
      "\n",
      "\n",
      "       SMS_received        \n",
      "               mean min max\n",
      "NoShow                     \n",
      "0          0.291343   0   1\n",
      "1          0.438469   0   1\n",
      "\n",
      "\n",
      "       Scholarship        \n",
      "              mean min max\n",
      "NoShow                    \n",
      "0         0.093909   0   1\n",
      "1         0.115533   0   1\n",
      "\n",
      "\n",
      "       DaysAdvance            \n",
      "              mean  min    max\n",
      "NoShow                        \n",
      "0         8.755108  0.0  179.0\n",
      "1        15.835484  0.0  179.0\n"
     ]
    }
   ],
   "source": [
    "df_grouped_age = df_dataset.groupby('NoShow').agg({'Age': ['mean', 'min', 'max']})\n",
    "print(df_grouped_age)\n",
    "print('\\n')\n",
    "df_grouped_handicap = df_dataset.groupby('NoShow').agg({'Handicap': ['mean', 'min', 'max']})\n",
    "print(df_grouped_handicap)\n",
    "print('\\n')\n",
    "df_grouped_sms = df_dataset.groupby('NoShow').agg({'SMS_received': ['mean', 'min', 'max']})\n",
    "print(df_grouped_sms)\n",
    "print('\\n')\n",
    "df_grouped_scholarship = df_dataset.groupby('NoShow').agg({'Scholarship': ['mean', 'min', 'max']})\n",
    "print(df_grouped_scholarship)\n",
    "print('\\n')\n",
    "df_grouped_advance = df_dataset.groupby('NoShow').agg({'DaysAdvance': ['mean', 'min', 'max']})\n",
    "print(df_grouped_advance)"
   ]
  },
  {
   "cell_type": "markdown",
   "metadata": {
    "colab_type": "text",
    "id": "icsiW7S8Bu_l"
   },
   "source": [
    "<a id='conclusions'></a>\n",
    "## Conclusions\n",
    "\n",
    "1. Higher positive correlation is observed between Age, Hipertension and Diabetes. With this dataset, it can be said that with higher age the probability of having Hipertension and Diabetes in paitent is higher.  \n",
    "2. The success percentage of appointment is nearly 79.8% where the paitent shows up as scheduled.  \n",
    "3. Age, Handicap and Scholarship have negligible to no impact on sucess of appoitment being successful.  \n",
    "4. In an average if and appointment is made less than 9 days in advance then it has higher probability of a show.  \n",
    "5. An intereseting fact noticed is that SMS reminders are less effective because most of paitents who recieve SMS reminders end up as No-shows. And most of the paitents who Show up as schedule didnot recieved SMS reminders."
   ]
  }
 ],
 "metadata": {
  "colab": {
   "name": "investigate-a-dataset-template.ipynb",
   "provenance": []
  },
  "kernelspec": {
   "display_name": "Python 3",
   "language": "python",
   "name": "python3"
  },
  "language_info": {
   "codemirror_mode": {
    "name": "ipython",
    "version": 3
   },
   "file_extension": ".py",
   "mimetype": "text/x-python",
   "name": "python",
   "nbconvert_exporter": "python",
   "pygments_lexer": "ipython3",
   "version": "3.7.3"
  }
 },
 "nbformat": 4,
 "nbformat_minor": 4
}
